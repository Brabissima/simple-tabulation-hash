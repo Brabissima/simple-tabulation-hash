{
 "cells": [
  {
   "cell_type": "code",
   "execution_count": 1,
   "metadata": {},
   "outputs": [],
   "source": [
    "from math import ceil\n",
    "import random"
   ]
  },
  {
   "cell_type": "markdown",
   "metadata": {},
   "source": [
    "# Simple Tabulation Hash"
   ]
  },
  {
   "cell_type": "code",
   "execution_count": 2,
   "metadata": {},
   "outputs": [],
   "source": [
    "def particionar(x):\n",
    "    binario_x = bin(x).zfill(64).replace('b','')\n",
    "\n",
    "    particoes = []\n",
    "    for _ in range(8):                   #Aqui utilizo c=8.\n",
    "        particoes.append(binario_x[-8:]) #Pego os 8 ultimos e adiciono a partição.\n",
    "        binario_x = binario_x[:-8]       #Atualizo o binario_x retirando os 8 últimos pra continuar a iteração até que não\n",
    "                                         #sobrem mais caracteres.\n",
    "    return particoes[::-1]               #Inverto a lista para que os últimos caracteres da repres. binária vão para as\n",
    "                                         #as últimas partições."
   ]
  },
  {
   "cell_type": "code",
   "execution_count": 3,
   "metadata": {},
   "outputs": [],
   "source": [
    "def tabela_aleatoria(): #Aqui teremos 8 tabelas totalmente aleatórias que armazenam 2**c=256 elementos.\n",
    "    T = []\n",
    "    random.seed(10)\n",
    "    for __ in range(8):\n",
    "        T_i = []\n",
    "        for _ in range(256):\n",
    "            valor_aleatorio = random.randint(0,256)\n",
    "            T_i.append(valor_aleatorio)\n",
    "        T.append(T_i)\n",
    "    return T"
   ]
  },
  {
   "cell_type": "code",
   "execution_count": 4,
   "metadata": {},
   "outputs": [],
   "source": [
    "def funcao_hash(x): #h(x) = T[1](x[1])^T[2](x[2])^...^T[8]x[8]\n",
    "    particoes = particionar(int(x))\n",
    "    particao_decimal = [int(particao, 2) for particao in particoes]\n",
    "    \n",
    "    T = tabela_aleatoria()\n",
    "    T_j = []\n",
    "    for i in range(8):\n",
    "        j = particao_decimal[i]\n",
    "        T_j.append(T[i][j])\n",
    "    \n",
    "    h_x = T_j[0]^T_j[1]\n",
    "    for i in range(2,8):\n",
    "        h_x = h_x^T_j[i]\n",
    "        \n",
    "    return h_x"
   ]
  },
  {
   "cell_type": "markdown",
   "metadata": {},
   "source": [
    "# Funções Auxiliares"
   ]
  },
  {
   "cell_type": "code",
   "execution_count": 5,
   "metadata": {},
   "outputs": [],
   "source": [
    "def inicializar_tabela(m):\n",
    "    return [None]*m"
   ]
  },
  {
   "cell_type": "code",
   "execution_count": 6,
   "metadata": {},
   "outputs": [],
   "source": [
    "def limpar(tabela):\n",
    "    return 0"
   ]
  },
  {
   "cell_type": "code",
   "execution_count": 7,
   "metadata": {},
   "outputs": [],
   "source": [
    "def remapear_valores(tabela_antiga, tabela):\n",
    "    for pos, valor in enumerate(tabela_antiga):\n",
    "        if(valor != None and valor != '#'): # '#' indica que foi removido um elemento ali\n",
    "            incluir(tabela, valor)\n",
    "    return tabela"
   ]
  },
  {
   "cell_type": "code",
   "execution_count": 8,
   "metadata": {},
   "outputs": [],
   "source": [
    "def table_doubling(tabela):\n",
    "    tabela_antiga = tabela.copy()\n",
    "    m = len(tabela)\n",
    "    m *= 2\n",
    "    tabela = inicializar_tabela(m)\n",
    "    tabela = remapear_valores(tabela_antiga, tabela)\n",
    "    \n",
    "    return tabela"
   ]
  },
  {
   "cell_type": "code",
   "execution_count": 9,
   "metadata": {},
   "outputs": [],
   "source": [
    "def halving(tabela):\n",
    "    tabela_antiga = tabela.copy()\n",
    "    m = len(tabela)\n",
    "    m = ceil(m/2)\n",
    "    tabela = inicializar_tabela(m)\n",
    "    tabela = remapear_valores(tabela_antiga, tabela)\n",
    "    \n",
    "    return tabela"
   ]
  },
  {
   "cell_type": "markdown",
   "metadata": {},
   "source": [
    "# Operações Hash"
   ]
  },
  {
   "cell_type": "code",
   "execution_count": 10,
   "metadata": {},
   "outputs": [],
   "source": [
    "def incluir(tabela_hash, x):\n",
    "    global log_operacoes\n",
    "    global contador_elementos\n",
    "    \n",
    "    h_x = funcao_hash(x)\n",
    "    inserido = False\n",
    "    i=0\n",
    "    while(not inserido):\n",
    "        if(i<len(tabela_hash)):            #pra não percorrer a tabela infinitas vezes.\n",
    "            pos = (h_x+i)%len(tabela_hash) #(h[x]+i)mod m\n",
    "            if(tabela_hash[pos] == None or tabela_hash[pos] == '#'): # '#' indica que foi removido um elemento ali\n",
    "                tabela_hash[pos] = x\n",
    "                inserido = True\n",
    "                log_operacoes.append(\"INC:{}\\n{} {}\\n\\n\".format(x, h_x%len(tabela_hash), pos))\n",
    "            else:\n",
    "                i+=1\n",
    "        else:\n",
    "            tabela_hash = table_doubling(tabela_hash) #se a tabela ja estiver cheia, table doubling remapeando valores.\n",
    "            log_operacoes.append(\"DOBRAR TAM:{}\\n\\n\".format(len(tabela_hash)))\n",
    "            incluir(tabela_hash, x)\n",
    "    \n",
    "    contador_elementos+=1\n",
    "    \n",
    "    return tabela_hash"
   ]
  },
  {
   "cell_type": "code",
   "execution_count": 11,
   "metadata": {},
   "outputs": [],
   "source": [
    "def buscar(tabela, x):\n",
    "    h_x = funcao_hash(x)\n",
    "    encontrou = False\n",
    "    i=0\n",
    "    \n",
    "    while(not encontrou):\n",
    "        if(i<len(tabela)):            #Pra não percorrer a tabela infinitas vezes.\n",
    "            pos = (h_x+i)%len(tabela) #(h[x]+i)mod m\n",
    "            if(tabela[pos] == x):          #Caso eu encontre o elemento, retorno sua posição.\n",
    "                return pos\n",
    "            else:\n",
    "                i+=1\n",
    "        else:\n",
    "            encontrou = True\n",
    "    return -1                              #Caso o elemento não for encontrado, retorno -1."
   ]
  },
  {
   "cell_type": "code",
   "execution_count": 12,
   "metadata": {},
   "outputs": [],
   "source": [
    "def remover(tabela, x): #Implementar o halving (done)\n",
    "    global contador_elementos\n",
    "    global log_operacoes\n",
    "    \n",
    "    h_x = funcao_hash(x)\n",
    "    pos = buscar(tabela, x) \n",
    "    if(pos != -1):\n",
    "        tabela[pos] = '#'\n",
    "        contador_elementos-=1\n",
    "        #print(\"Contador: \",contador_elementos)\n",
    "        log_operacoes.append(\"REM:{}\\n{} {}\\n\\n\".format(x, h_x%len(tabela), pos))\n",
    "        \n",
    "        #Fazer o halving quando só 1/4 da tabela estiver preenchida e tabela com tamanho pelo menos (1+epsilon)n.\n",
    "        if(contador_elementos<=(1/4)*len(tabela)): #and (len(tabela)/2)>=(1+1)): \n",
    "            tabela = halving(tabela)\n",
    "            log_operacoes.append(\"METADE TAM:{}\\n\\n\".format(len(tabela)))\n",
    "        \n",
    "    return tabela"
   ]
  },
  {
   "cell_type": "markdown",
   "metadata": {},
   "source": [
    "# Execução"
   ]
  },
  {
   "cell_type": "code",
   "execution_count": 16,
   "metadata": {},
   "outputs": [],
   "source": [
    "contador_elementos = 0\n",
    "log_operacoes = []"
   ]
  },
  {
   "cell_type": "code",
   "execution_count": 17,
   "metadata": {},
   "outputs": [],
   "source": [
    "def executar():\n",
    "    global log_operacoes\n",
    "    \n",
    "    tabela_hash = inicializar_tabela(8)\n",
    "    arquivo = open('entrada.txt','r')\n",
    "    saida = open('saida.txt','w')\n",
    "    \n",
    "    log_operacoes.append(\"TAM:{}\\n\".format(len(tabela_hash)))\n",
    "    for line in arquivo:\n",
    "        operacao, x = line.split(':')\n",
    "        if(operacao == 'INC'):\n",
    "            incluir(tabela_hash, int(x))\n",
    "\n",
    "        elif(operacao == 'REM'):\n",
    "            remover(tabela_hash, int(x))\n",
    "\n",
    "        elif(operacao == 'BUS'):\n",
    "            buscar(tabela_hash, int(x))\n",
    "            log_operacoes.append(\"BUS:{}{} {}\\n\\n\".format(x, funcao_hash(x)%len(tabela_hash), buscar(tabela_hash,x)))\n",
    "    \n",
    "    saida.writelines(log_operacoes)\n",
    "    \n",
    "    arquivo.close()\n",
    "    saida.close()"
   ]
  },
  {
   "cell_type": "code",
   "execution_count": 18,
   "metadata": {},
   "outputs": [],
   "source": [
    "executar()"
   ]
  }
 ],
 "metadata": {
  "kernelspec": {
   "display_name": "Python 3",
   "language": "python",
   "name": "python3"
  },
  "language_info": {
   "codemirror_mode": {
    "name": "ipython",
    "version": 3
   },
   "file_extension": ".py",
   "mimetype": "text/x-python",
   "name": "python",
   "nbconvert_exporter": "python",
   "pygments_lexer": "ipython3",
   "version": "3.7.3"
  }
 },
 "nbformat": 4,
 "nbformat_minor": 2
}
