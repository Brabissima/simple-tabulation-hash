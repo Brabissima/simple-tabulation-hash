{
 "cells": [
  {
   "cell_type": "code",
   "execution_count": 1,
   "metadata": {},
   "outputs": [],
   "source": [
    "import random"
   ]
  },
  {
   "cell_type": "markdown",
   "metadata": {},
   "source": [
    "# Simple Tabulation Hash"
   ]
  },
  {
   "cell_type": "code",
   "execution_count": 2,
   "metadata": {},
   "outputs": [],
   "source": [
    "def particionar(x):\n",
    "    binario_x = bin(x).zfill(64).replace('b','')\n",
    "\n",
    "    particoes = []\n",
    "    for _ in range(8):                   #Aqui utilizo c=8.\n",
    "        particoes.append(binario_x[-8:]) #Pego os 8 ultimos e adiciono a partição.\n",
    "        binario_x = binario_x[:-8]       #Atualizo o binario_x retirando os 8 últimos pra continuar a iteração até que não\n",
    "                                         #sobrem mais caracteres.\n",
    "    return particoes[::-1]               #Inverto a lista para que os últimos caracteres da repres. binária vão para as\n",
    "                                         #as últimas partições."
   ]
  },
  {
   "cell_type": "code",
   "execution_count": 3,
   "metadata": {},
   "outputs": [],
   "source": [
    "def tabela_aleatoria(): #Aqui teremos 8 tabelas totalmente aleatórias que armazenam 2**c=256 elementos.\n",
    "    T = []\n",
    "    random.seed(42)\n",
    "    for __ in range(8):\n",
    "        T_i = []\n",
    "        for _ in range(256):\n",
    "            valor_aleatorio = random.randint(0,256)\n",
    "            T_i.append(valor_aleatorio)\n",
    "        T.append(T_i)\n",
    "    return T"
   ]
  },
  {
   "cell_type": "code",
   "execution_count": 4,
   "metadata": {},
   "outputs": [],
   "source": [
    "def funcao_hash(x): #h(x) = T[1](x[1])^T[2](x[2])^...^T[8]x[8]\n",
    "    particoes = particionar(int(x))\n",
    "    particao_decimal = [int(particao, 2) for particao in particoes]\n",
    "    \n",
    "    T = tabela_aleatoria()\n",
    "    T_j = []\n",
    "    for i in range(8):\n",
    "        j = particao_decimal[i]\n",
    "        T_j.append(T[i][j])\n",
    "    \n",
    "    h_x = T_j[0]^T_j[1]\n",
    "    for i in range(2,8):\n",
    "        h_x = h_x^T_j[i]\n",
    "        \n",
    "    return h_x"
   ]
  },
  {
   "cell_type": "markdown",
   "metadata": {},
   "source": [
    "# Funções Auxiliares"
   ]
  },
  {
   "cell_type": "code",
   "execution_count": 5,
   "metadata": {},
   "outputs": [],
   "source": [
    "def inicializar_tabela(m):\n",
    "    global contador_elementos\n",
    "    global contador_flags\n",
    "    contador_flags = 0\n",
    "    contador_elementos = 0\n",
    "    return [None]*m"
   ]
  },
  {
   "cell_type": "code",
   "execution_count": 6,
   "metadata": {},
   "outputs": [],
   "source": [
    "def limpar(tabela):\n",
    "    global contador_flags\n",
    "    global log_operacoes\n",
    "    \n",
    "    tabela_antiga = tabela.copy()\n",
    "    cont_flag = contador_flags\n",
    "    tabela = inicializar_tabela(len(tabela))\n",
    "    print(\"LIMPAR:{}\\n\\n\".format(cont_flag))\n",
    "    log_operacoes.append(\"LIMPAR:{}\\n\\n\".format(cont_flag))\n",
    "    tabela = remapear_valores(tabela_antiga,tabela)\n",
    "    \n",
    "    return tabela"
   ]
  },
  {
   "cell_type": "code",
   "execution_count": 7,
   "metadata": {},
   "outputs": [],
   "source": [
    "def remapear_valores(tabela_antiga, tabela):\n",
    "    for pos, valor in enumerate(tabela_antiga):\n",
    "        if(valor != None and valor != '#'): # '#' indica que foi removido um elemento ali\n",
    "            tabela = incluir(tabela, valor, False)\n",
    "            \n",
    "    return tabela"
   ]
  },
  {
   "cell_type": "code",
   "execution_count": 8,
   "metadata": {},
   "outputs": [],
   "source": [
    "def table_doubling(tabela):\n",
    "    #global contador_elementos\n",
    "    global log_operacoes\n",
    "    #contador_elementos=0\n",
    "    \n",
    "    tabela_antiga = tabela.copy()\n",
    "    m = len(tabela)\n",
    "    m *= 2\n",
    "    tabela = inicializar_tabela(m)\n",
    "    tabela = remapear_valores(tabela_antiga, tabela)\n",
    "    #print(\"DOBRAR TAM:{}\\n\\n\".format(len(tabela)))\n",
    "    #log_operacoes.append(\"DOBRAR TAM:{}\\n\\n\".format(len(tabela)))\n",
    "    \n",
    "    return tabela"
   ]
  },
  {
   "cell_type": "code",
   "execution_count": 9,
   "metadata": {},
   "outputs": [],
   "source": [
    "def halving(tabela):\n",
    "    global log_operacoes\n",
    "    eps=1\n",
    "    \n",
    "    if(len(tabela)/2>=(eps+1)): #Aqui restringe a tabela a ter pelo menos tamanho 2.\n",
    "        tabela_antiga = tabela.copy()\n",
    "        m = len(tabela)\n",
    "        m = int(m/2)\n",
    "        tabela = inicializar_tabela(m)\n",
    "        tabela = remapear_valores(tabela_antiga, tabela)\n",
    "        print(\"METADE TAM:{}\\n\\n\".format(len(tabela)))\n",
    "        log_operacoes.append(\"METADE TAM:{}\\n\\n\".format(len(tabela)))\n",
    "\n",
    "    return tabela"
   ]
  },
  {
   "cell_type": "markdown",
   "metadata": {},
   "source": [
    "# Operações Hash"
   ]
  },
  {
   "cell_type": "code",
   "execution_count": 16,
   "metadata": {},
   "outputs": [],
   "source": [
    "def incluir(tabela_hash, x, registrar_log=True):\n",
    "    global log_operacoes\n",
    "    global contador_elementos\n",
    "    global contador_flags\n",
    "    \n",
    "    h_x = funcao_hash(x)\n",
    "    inserido = False\n",
    "    i=0\n",
    "    while(not inserido):\n",
    "        if(i<len(tabela_hash)):            #pra não percorrer a tabela infinitas vezes.\n",
    "            pos = (h_x+i)%len(tabela_hash) #(h[x]+i)mod m\n",
    "            if(tabela_hash[pos] == None or tabela_hash[pos] == '#'): # '#' indica que foi removido um elemento ali\n",
    "                if(tabela_hash[pos] == '#'):\n",
    "                    contador_flags-=1\n",
    "                tabela_hash[pos] = x\n",
    "                inserido = True\n",
    "                if(registrar_log):\n",
    "                    print(\"INC:{}\\n{} {}\\n\\n\".format(x, h_x%len(tabela_hash), pos))\n",
    "                    log_operacoes.append(\"INC:{}\\n{} {}\\n\\n\".format(x, h_x%len(tabela_hash), pos))\n",
    "            else:\n",
    "                i+=1\n",
    "        else:\n",
    "            tabela_hash = table_doubling(tabela_hash) #se a tabela ja estiver cheia, table doubling remapeando valores.\n",
    "            while(not inserido):\n",
    "                if(i<len(tabela_hash)):            #pra não percorrer a tabela infinitas vezes.\n",
    "                    pos = (h_x+i)%len(tabela_hash) #(h[x]+i)mod m\n",
    "                    if(tabela_hash[pos] == None or tabela_hash[pos] == '#'): # '#' indica que foi removido um elemento ali\n",
    "                        if(tabela_hash[pos] == '#'):\n",
    "                            contador_flags-=1\n",
    "                        tabela_hash[pos] = x\n",
    "                        inserido = True\n",
    "                        if(registrar_log):\n",
    "                            print(\"INC:{}\\n{} {}\\n\\n\".format(x, h_x%len(tabela_hash), pos))\n",
    "                            log_operacoes.append(\"INC:{}\\n{} {}\\n\\n\".format(x, h_x%len(tabela_hash), pos))\n",
    "                            ###\n",
    "                            print(\"DOBRAR TAM:{}\\n\\n\".format(len(tabela_hash)))\n",
    "                            log_operacoes.append(\"DOBRAR TAM:{}\\n\\n\".format(len(tabela_hash)))\n",
    "                            \n",
    "                    else:\n",
    "                        i+=1\n",
    "                        \n",
    "    contador_elementos+=1\n",
    "    \n",
    "    return tabela_hash"
   ]
  },
  {
   "cell_type": "code",
   "execution_count": 17,
   "metadata": {},
   "outputs": [],
   "source": [
    "def buscar(tabela, x, registrar_log=True):\n",
    "    h_x = funcao_hash(x)\n",
    "    encontrou = False\n",
    "    i=0\n",
    "    \n",
    "    while(not encontrou):\n",
    "        if(i<len(tabela)):            #Pra não percorrer a tabela infinitas vezes.\n",
    "            pos = (h_x+i)%len(tabela) #(h[x]+i)mod m\n",
    "            if(tabela[pos] == x):          #Caso eu encontre o elemento, retorno sua posição.\n",
    "                if(registrar_log):\n",
    "                    print(\"BUS:{}\\n{} {}\\n\\n\".format(x, h_x%len(tabela), pos))\n",
    "                    log_operacoes.append(\"BUS:{}\\n{} {}\\n\\n\".format(x, h_x%len(tabela), pos))\n",
    "                return pos\n",
    "            else:\n",
    "                i+=1\n",
    "        else:\n",
    "            encontrou = True\n",
    "    \n",
    "    if(registrar_log):\n",
    "        print(\"BUS:{}\\n{} {}\\n\\n\".format(x, h_x%len(tabela), -1))\n",
    "        log_operacoes.append(\"BUS:{}\\n{} {}\\n\\n\".format(x, h_x%len(tabela), -1))\n",
    "    \n",
    "    return -1                              #Caso o elemento não for encontrado, retorno -1."
   ]
  },
  {
   "cell_type": "code",
   "execution_count": 22,
   "metadata": {},
   "outputs": [],
   "source": [
    "def remover(tabela, x): #Implementar o halving (done)\n",
    "    global contador_elementos\n",
    "    global contador_flags\n",
    "    global log_operacoes\n",
    "    \n",
    "    h_x = funcao_hash(x)\n",
    "    pos = buscar(tabela, x, False) \n",
    "    if(pos != -1):\n",
    "        tabela[pos] = '#'\n",
    "        contador_elementos-=1\n",
    "        contador_flags+=1\n",
    "            \n",
    "        print(\"REM:{}\\n{} {}\\n\\n\".format(x, h_x%len(tabela), pos))\n",
    "        log_operacoes.append(\"REM:{}\\n{} {}\\n\\n\".format(x, h_x%len(tabela), pos))\n",
    "        \n",
    "        if(contador_flags>=(len(tabela))*(1/4)):\n",
    "            tabela = limpar(tabela)\n",
    "        \n",
    "        #Fazer o halving quando só 1/4 da tabela estiver preenchida e tabela com tamanho pelo menos (1+epsilon)n.\n",
    "        if(contador_elementos<=int((1/4)*len(tabela))):\n",
    "            tabela = halving(tabela)\n",
    "    else:\n",
    "        print(\"REM:{}\\n{} {}\\n\\n\".format(x, h_x%len(tabela), pos))\n",
    "        log_operacoes.append(\"REM:{}\\n{} {}\\n\\n\".format(x, h_x%len(tabela), pos))\n",
    "        \n",
    "    return tabela"
   ]
  },
  {
   "cell_type": "markdown",
   "metadata": {},
   "source": [
    "# Execução"
   ]
  },
  {
   "cell_type": "code",
   "execution_count": 23,
   "metadata": {},
   "outputs": [],
   "source": [
    "contador_elementos = 0\n",
    "contador_flags = 0\n",
    "log_operacoes = []"
   ]
  },
  {
   "cell_type": "code",
   "execution_count": 24,
   "metadata": {},
   "outputs": [],
   "source": [
    "def executar():\n",
    "    global log_operacoes\n",
    "    \n",
    "    tabela_hash = inicializar_tabela(4)\n",
    "    arquivo = open('entrada.txt','r')\n",
    "    saida = open('saida.txt','w')\n",
    "    \n",
    "    log_operacoes.append(\"TAM:{}\\n\\n\".format(len(tabela_hash)))\n",
    "    for line in arquivo:\n",
    "        operacao, x = line.split(':')\n",
    "        if(operacao == 'INC'):\n",
    "            tabela_hash=incluir(tabela_hash, int(x))\n",
    "            print(tabela_hash)\n",
    "\n",
    "        elif(operacao == 'REM'):\n",
    "            tabela_hash=remover(tabela_hash, int(x))\n",
    "            print(tabela_hash)\n",
    "\n",
    "        elif(operacao == 'BUS'):\n",
    "            buscar(tabela_hash, int(x))\n",
    "            print(tabela_hash)\n",
    "    \n",
    "    saida.writelines(log_operacoes)\n",
    "    \n",
    "    arquivo.close()\n",
    "    saida.close()"
   ]
  },
  {
   "cell_type": "code",
   "execution_count": 25,
   "metadata": {},
   "outputs": [
    {
     "name": "stdout",
     "output_type": "stream",
     "text": [
      "INC:10\n",
      "0 0\n",
      "\n",
      "\n",
      "[10, None, None, None]\n",
      "INC:20\n",
      "1 1\n",
      "\n",
      "\n",
      "[10, 20, None, None]\n",
      "REM:10\n",
      "0 0\n",
      "\n",
      "\n",
      "LIMPAR:1\n",
      "\n",
      "\n",
      "METADE TAM:2\n",
      "\n",
      "\n",
      "[None, 20]\n",
      "INC:15\n",
      "1 0\n",
      "\n",
      "\n",
      "[15, 20]\n",
      "INC:15\n",
      "1 3\n",
      "\n",
      "\n",
      "DOBRAR TAM:4\n",
      "\n",
      "\n",
      "[None, 15, 20, 15]\n",
      "REM:17\n",
      "3 -1\n",
      "\n",
      "\n",
      "[None, 15, 20, 15]\n",
      "BUS:42\n",
      "3 -1\n",
      "\n",
      "\n",
      "[None, 15, 20, 15]\n",
      "INC:42\n",
      "3 0\n",
      "\n",
      "\n",
      "[42, 15, 20, 15]\n",
      "INC:43\n",
      "3 0\n",
      "\n",
      "\n",
      "DOBRAR TAM:8\n",
      "\n",
      "\n",
      "[43, 20, None, None, None, 15, 15, 42]\n"
     ]
    }
   ],
   "source": [
    "executar()"
   ]
  }
 ],
 "metadata": {
  "kernelspec": {
   "display_name": "Python 3",
   "language": "python",
   "name": "python3"
  },
  "language_info": {
   "codemirror_mode": {
    "name": "ipython",
    "version": 3
   },
   "file_extension": ".py",
   "mimetype": "text/x-python",
   "name": "python",
   "nbconvert_exporter": "python",
   "pygments_lexer": "ipython3",
   "version": "3.7.3"
  }
 },
 "nbformat": 4,
 "nbformat_minor": 2
}
